{
 "cells": [
  {
   "cell_type": "code",
   "execution_count": 2,
   "id": "c248ded5-2feb-42eb-91e7-1260078b0e91",
   "metadata": {},
   "outputs": [],
   "source": [
    "import numpy as np\n",
    "import pandas as pd\n",
    "import matplotlib.pyplot as plt\n",
    "import seaborn as sns"
   ]
  },
  {
   "cell_type": "code",
   "execution_count": 3,
   "id": "9350cee2-17db-4755-a4f8-ffe6726bf435",
   "metadata": {},
   "outputs": [],
   "source": [
    "df_train = pd.read_csv('train.csv')\n",
    "df_test = pd.read_csv('test.csv')"
   ]
  },
  {
   "cell_type": "markdown",
   "id": "9dbee4f5-9325-47b7-8c30-a57eac8f27f5",
   "metadata": {},
   "source": [
    "[1:] լեյբլը հանած"
   ]
  },
  {
   "cell_type": "code",
   "execution_count": 4,
   "id": "a4eaf434-fa2c-401e-9c31-6f6f184e3e52",
   "metadata": {
    "collapsed": true,
    "jupyter": {
     "outputs_hidden": true
    },
    "scrolled": true
   },
   "outputs": [
    {
     "data": {
      "text/plain": [
       "array([  0,   0,   0,   0,   0,   0,   0,   0,   0,   0,   0,   0,   0,\n",
       "         0,   0,   0,   0,   0,   0,   0,   0,   0,   0,   0,   0,   0,\n",
       "         0,   0,   0,   0,   0,   0,   0,   0,   0,   0,   0,   0,   0,\n",
       "         0,   0,   0,   0,   0,   0,   0,   0,   0,   0,   0,   0,   0,\n",
       "         0,   0,   0,   0,   0,   0,   0,   0,   0,   0,   0,   0,   0,\n",
       "         0,   0,   0,   0,   0,   0,   0,   0,   0,   0,   0,   0,   0,\n",
       "         0,   0,   0,   0,   0,   0,   0,   0,   0,   0,   0,   0,   0,\n",
       "         0,   0,   0,   0,   0,   0,   0,   0,   0,   0,   0,   0,   0,\n",
       "         0,   0,   0,   0,   0,   0,   0,   0,   0,   0,   0,   0,   0,\n",
       "         0,   0,   0,   0,   0,   0,   0,   0,   0,   0,   0,   0,   0,\n",
       "         0,   0,   0,   0,   0,   0,   0,   0,   0,   0,   0,   0,   0,\n",
       "         0,   0,   0,   0,   0,   0,   0,   0,   0,   0,   0,   0,   0,\n",
       "         0,   0,   0,   0,   0,   0,   0,   0,   0,   0,   0,   0,   0,\n",
       "         0,   0,   0,   0,   0,   0,   0,   0,   0,   0,   0,   7,  24,\n",
       "        24,  97, 253, 253, 253, 253, 255, 180,  48,   0,   0,   0,   0,\n",
       "         0,   0,   0,   0,   0,   0,   0,   0,   0,   0,   0,   0,  30,\n",
       "       186, 252, 252, 253, 252, 252, 252, 252, 253, 252, 227,  29,   0,\n",
       "         0,   0,   0,   0,   0,   0,   0,   0,   0,   0,   0,   0,   0,\n",
       "        38, 155, 252, 252, 252, 253, 252, 252, 227,  79, 222, 252, 252,\n",
       "       129,   0,   0,   0,   0,   0,   0,   0,   0,   0,   0,   0,   0,\n",
       "         0,  85, 233, 252, 252, 252, 252, 253, 252, 252, 202,  11, 180,\n",
       "       252, 252, 119,   0,   0,   0,   0,   0,   0,   0,   0,   0,   0,\n",
       "         0,   0,  43, 240, 253, 252, 252, 252, 252, 253, 252, 252, 244,\n",
       "       126, 201, 252, 252, 150,   0,   0,   0,   0,   0,   0,   0,   0,\n",
       "         0,   0,   0,   7, 212, 253, 255, 253, 253, 253, 232, 221,  42,\n",
       "         0, 104, 253, 255, 253, 205,  21,   0,   0,   0,   0,   0,   0,\n",
       "         0,   0,   0,   0,   0,  25, 223, 252, 253, 252, 252, 214,  18,\n",
       "         0,   0,  34, 215, 252, 253, 223,  56,   0,   0,   0,   0,   0,\n",
       "         0,   0,   0,   0,   0,   0,   0,   0,  99, 246, 253, 252, 252,\n",
       "        77,   0,   7,  70, 203, 252, 252, 173,  25,   0,   0,   0,   0,\n",
       "         0,   0,   0,   0,   0,   0,   0,   0,   0,   0,   0,  42, 253,\n",
       "       252, 252, 236, 103, 160, 252, 252, 218, 108,   0,   0,   0,   0,\n",
       "         0,   0,   0,   0,   0,   0,   0,   0,   0,   0,   0,   0,   0,\n",
       "         0, 148, 252, 252, 252, 252, 253, 231, 106,  14,   0,   0,   0,\n",
       "         0,   0,   0,   0,   0,   0,   0,   0,   0,   0,   0,   0,   0,\n",
       "         0,   0,   0,  24, 253, 253, 253, 253, 255, 159,   7,   0,   0,\n",
       "         0,   0,   0,   0,   0,   0,   0,   0,   0,   0,   0,   0,   0,\n",
       "         0,   0,   0,   0,  43, 118, 252, 240, 244, 252, 253, 231,  37,\n",
       "         0,   0,   0,   0,   0,   0,   0,   0,   0,   0,   0,   0,   0,\n",
       "         0,   0,   0,   0,  19, 164, 246, 253, 187,  50,  99, 246, 253,\n",
       "       252,  69,   0,   0,   0,   0,   0,   0,   0,   0,   0,   0,   0,\n",
       "         0,   0,   0,   0,   0,   0,  80, 232, 252, 203,  58,   0,   0,\n",
       "       135, 253, 252, 121,   0,   0,   0,   0,   0,   0,   0,   0,   0,\n",
       "         0,   0,   0,   0,   0,   0,   0,  43, 246, 252, 200,  11,   0,\n",
       "         0,   0, 116, 253, 252,  69,   0,   0,   0,   0,   0,   0,   0,\n",
       "         0,   0,   0,   0,   0,   0,   0,   0,   0, 162, 253, 192,  11,\n",
       "         0,   0,   0,   0, 179, 255, 253,  69,   0,   0,   0,   0,   0,\n",
       "         0,   0,   0,   0,   0,   0,   0,   0,   0,   0,   5, 178, 252,\n",
       "       119,   0,   5,  47,  47, 140, 244, 253, 252,  69,   0,   0,   0,\n",
       "         0,   0,   0,   0,   0,   0,   0,   0,   0,   0,   0,   0,   7,\n",
       "       186, 252, 227, 184, 191, 252, 252, 252, 252, 253, 240,  50,   0,\n",
       "         0,   0,   0,   0,   0,   0,   0,   0,   0,   0,   0,   0,   0,\n",
       "         0,  11, 144, 227, 252, 252, 253, 252, 252, 252, 252,  98,  37,\n",
       "         0,   0,   0,   0,   0,   0,   0,   0,   0,   0,   0,   0,   0,\n",
       "         0,   0,   0,   0,   0,  48, 137, 242, 253, 231, 137, 137,  32,\n",
       "         0,   0,   0,   0,   0,   0,   0,   0,   0,   0,   0,   0,   0,\n",
       "         0,   0,   0,   0,   0,   0,   0,   0,   0,   0,   0,   0,   0,\n",
       "         0,   0,   0,   0,   0,   0,   0,   0,   0,   0,   0,   0,   0,\n",
       "         0,   0,   0,   0,   0,   0,   0,   0,   0,   0,   0,   0,   0,\n",
       "         0,   0,   0,   0,   0,   0,   0,   0,   0,   0,   0,   0,   0,\n",
       "         0,   0,   0,   0], dtype=int64)"
      ]
     },
     "execution_count": 4,
     "metadata": {},
     "output_type": "execute_result"
    }
   ],
   "source": [
    "# df_train.iloc[10][1:].values"
   ]
  },
  {
   "cell_type": "code",
   "execution_count": 5,
   "id": "34317eed-de13-4909-a722-b1d702f4f2e0",
   "metadata": {},
   "outputs": [],
   "source": [
    "item = df_train.iloc[10][1:].values\n",
    "item = item.reshape(28,28)"
   ]
  },
  {
   "cell_type": "code",
   "execution_count": 5,
   "id": "4e3eb151-3364-438b-be1b-12aa00c3d5e2",
   "metadata": {
    "collapsed": true,
    "jupyter": {
     "outputs_hidden": true
    },
    "scrolled": true
   },
   "outputs": [
    {
     "data": {
      "text/plain": [
       "<matplotlib.image.AxesImage at 0x259c1964e10>"
      ]
     },
     "execution_count": 5,
     "metadata": {},
     "output_type": "execute_result"
    },
    {
     "data": {
      "image/png": "[encoded data removed]",
      "text/plain": [
       "<Figure size 640x480 with 1 Axes>"
      ]
     },
     "metadata": {},
     "output_type": "display_data"
    }
   ],
   "source": [
    "plt.imshow(item)"
   ]
  },
  {
   "cell_type": "markdown",
   "id": "6cd163da-acc3-491b-b255-7af03a464fe1",
   "metadata": {},
   "source": [
    "բաժանում ենք 255-ի որ սարքենք սև սպիտակ"
   ]
  },
  {
   "cell_type": "code",
   "execution_count": 6,
   "id": "ff83ce9b-b5fd-43d1-9651-956d0d4f369e",
   "metadata": {},
   "outputs": [],
   "source": [
    "item = item/255"
   ]
  },
  {
   "cell_type": "code",
   "execution_count": null,
   "id": "7ebf83fb-2404-4dd7-97eb-97598966eee0",
   "metadata": {},
   "outputs": [],
   "source": []
  },
  {
   "cell_type": "code",
   "execution_count": 7,
   "id": "e93e871a-5d3a-437b-902b-96007edfa196",
   "metadata": {
    "scrolled": true
   },
   "outputs": [
    {
     "data": {
      "text/plain": [
       "<matplotlib.image.AxesImage at 0x19d11054e10>"
      ]
     },
     "execution_count": 7,
     "metadata": {},
     "output_type": "execute_result"
    },
    {
     "data": {
      "image/png": "[encoded data removed]",
      "text/plain": [
       "<Figure size 640x480 with 1 Axes>"
      ]
     },
     "metadata": {},
     "output_type": "display_data"
    }
   ],
   "source": [
    "plt.imshow(item,cmap='grey')"
   ]
  },
  {
   "cell_type": "code",
   "execution_count": 8,
   "id": "bd7281c7-411f-45e5-80cc-afcd438c5084",
   "metadata": {},
   "outputs": [],
   "source": [
    "X = df_train.drop('label',axis=1)\n",
    "y = df_train['label']"
   ]
  },
  {
   "cell_type": "code",
   "execution_count": 9,
   "id": "8fcbe439-10bc-4b59-b3bd-0e0b936cf4f8",
   "metadata": {},
   "outputs": [
    {
     "name": "stdout",
     "output_type": "stream",
     "text": [
      "WARNING:tensorflow:From C:\\Users\\37477\\Desktop\\NewVenv\\venv\\Lib\\site-packages\\keras\\src\\losses.py:2976: The name tf.losses.sparse_softmax_cross_entropy is deprecated. Please use tf.compat.v1.losses.sparse_softmax_cross_entropy instead.\n",
      "\n"
     ]
    }
   ],
   "source": [
    "from keras.utils import to_categorical"
   ]
  },
  {
   "cell_type": "code",
   "execution_count": 10,
   "id": "8fc9f10b-a5cf-472d-a132-d6cb379259db",
   "metadata": {},
   "outputs": [],
   "source": [
    "#X popoxum enq (42000, 28, 28) chapi\n",
    "X = X.values.reshape((X.values.shape[0],28, 28))\n",
    "#isk y (42000, 10)\n",
    "y = to_categorical(y)"
   ]
  },
  {
   "cell_type": "code",
   "execution_count": 11,
   "id": "1d6b3004-a681-4a58-af3b-b98e02c0d6d9",
   "metadata": {},
   "outputs": [],
   "source": [
    "import tensorflow as tf\n",
    "from keras import Sequential\n",
    "from keras.layers import Dense,Conv2D,MaxPooling2D,Flatten"
   ]
  },
  {
   "cell_type": "code",
   "execution_count": 16,
   "id": "b10b99f0-78f0-4214-918c-e69c843505a5",
   "metadata": {},
   "outputs": [],
   "source": [
    "model = Sequential()\n",
    "model.add(Conv2D(32, (3, 3), activation='relu', input_shape=(28,28,1)))\n",
    "model.add(MaxPooling2D((2, 2)))\n",
    "model.add(Flatten())\n",
    "model.add(Dense(784, activation='relu'))\n",
    "model.add(Dense(120, activation='relu'))\n",
    "model.add(Dense(60, activation='relu'))\n",
    "model.add(Dense(10, activation='softmax'))"
   ]
  },
  {
   "cell_type": "code",
   "execution_count": 17,
   "id": "abe04c6c-541c-4d5e-a1a8-fd0ef030e894",
   "metadata": {},
   "outputs": [],
   "source": [
    "model.compile(optimizer='adam', loss='categorical_crossentropy', metrics=['accuracy'])"
   ]
  },
  {
   "cell_type": "code",
   "execution_count": 14,
   "id": "156d1e9f-6ce6-4b77-8602-e23cac4df50a",
   "metadata": {
    "collapsed": true,
    "jupyter": {
     "outputs_hidden": true
    },
    "scrolled": true
   },
   "outputs": [
    {
     "name": "stdout",
     "output_type": "stream",
     "text": [
      "Model: \"sequential\"\n",
      "_________________________________________________________________\n",
      " Layer (type)                Output Shape              Param #   \n",
      "=================================================================\n",
      " conv2d (Conv2D)             (None, 26, 26, 32)        320       \n",
      "                                                                 \n",
      " max_pooling2d (MaxPooling2  (None, 13, 13, 32)        0         \n",
      " D)                                                              \n",
      "                                                                 \n",
      " flatten (Flatten)           (None, 5408)              0         \n",
      "                                                                 \n",
      " dense (Dense)               (None, 784)               4240656   \n",
      "                                                                 \n",
      " dense_1 (Dense)             (None, 120)               94200     \n",
      "                                                                 \n",
      " dense_2 (Dense)             (None, 60)                7260      \n",
      "                                                                 \n",
      " dense_3 (Dense)             (None, 10)                610       \n",
      "                                                                 \n",
      "=================================================================\n",
      "Total params: 4343046 (16.57 MB)\n",
      "Trainable params: 4343046 (16.57 MB)\n",
      "Non-trainable params: 0 (0.00 Byte)\n",
      "_________________________________________________________________\n"
     ]
    }
   ],
   "source": [
    "model.summary()"
   ]
  },
  {
   "cell_type": "code",
   "execution_count": 18,
   "id": "d0c16319-622f-4753-8576-1d4e750a3dda",
   "metadata": {},
   "outputs": [
    {
     "name": "stdout",
     "output_type": "stream",
     "text": [
      "Epoch 1/2\n",
      "1313/1313 [==============================] - 58s 43ms/step - loss: 0.5931 - accuracy: 0.9290\n",
      "Epoch 2/2\n",
      "1313/1313 [==============================] - 53s 40ms/step - loss: 0.0739 - accuracy: 0.9773\n"
     ]
    },
    {
     "data": {
      "text/plain": [
       "<keras.src.callbacks.History at 0x19d90fdf990>"
      ]
     },
     "execution_count": 18,
     "metadata": {},
     "output_type": "execute_result"
    }
   ],
   "source": [
    "model.fit(X,y,epochs = 2)"
   ]
  },
  {
   "cell_type": "code",
   "execution_count": 26,
   "id": "f99ab2f9-4b2b-4d30-bedb-d68f6a7efa01",
   "metadata": {},
   "outputs": [],
   "source": [
    "image = plt.imread(\"0_kKxxK1YXSyWMEBtS (1).png\")"
   ]
  },
  {
   "cell_type": "code",
   "execution_count": 27,
   "id": "db622a7f-ad37-4fc7-bb1d-ac2d94b3f56c",
   "metadata": {},
   "outputs": [
    {
     "data": {
      "text/plain": [
       "<matplotlib.image.AxesImage at 0x19d8066c910>"
      ]
     },
     "execution_count": 27,
     "metadata": {},
     "output_type": "execute_result"
    },
    {
     "data": {
      "image/png": "[encoded data removed]",
      "text/plain": [
       "<Figure size 640x480 with 1 Axes>"
      ]
     },
     "metadata": {},
     "output_type": "display_data"
    }
   ],
   "source": [
    "plt.imshow(image)"
   ]
  },
  {
   "cell_type": "code",
   "execution_count": 28,
   "id": "07a67945-952d-4cd5-8675-922bc524b569",
   "metadata": {},
   "outputs": [],
   "source": [
    "image = image*255"
   ]
  },
  {
   "cell_type": "code",
   "execution_count": 29,
   "id": "f576925c-63b6-4eab-83c1-428b56a1f692",
   "metadata": {},
   "outputs": [],
   "source": [
    "image = image.reshape(1,28,28)"
   ]
  },
  {
   "cell_type": "code",
   "execution_count": 30,
   "id": "6ddc1061-bcea-45a5-abe6-82479f3c6eac",
   "metadata": {},
   "outputs": [
    {
     "name": "stdout",
     "output_type": "stream",
     "text": [
      "1/1 [==============================] - 0s 32ms/step\n"
     ]
    },
    {
     "data": {
      "text/plain": [
       "3"
      ]
     },
     "execution_count": 30,
     "metadata": {},
     "output_type": "execute_result"
    }
   ],
   "source": [
    "np.argmax(model.predict(image))"
   ]
  },
  {
   "cell_type": "code",
   "execution_count": null,
   "id": "35eea8f7-7420-4d94-9e02-f43ef291cf1f",
   "metadata": {},
   "outputs": [],
   "source": []
  },
  {
   "cell_type": "code",
   "execution_count": null,
   "id": "44720d00-81dd-4c19-8f6d-3c035e426010",
   "metadata": {},
   "outputs": [],
   "source": []
  }
 ],
 "metadata": {
  "kernelspec": {
   "display_name": "Python 3 (ipykernel)",
   "language": "python",
   "name": "python3"
  },
  "language_info": {
   "codemirror_mode": {
    "name": "ipython",
    "version": 3
   },
   "file_extension": ".py",
   "mimetype": "text/x-python",
   "name": "python",
   "nbconvert_exporter": "python",
   "pygments_lexer": "ipython3",
   "version": "3.11.8"
  }
 },
 "nbformat": 4,
 "nbformat_minor": 5
}
